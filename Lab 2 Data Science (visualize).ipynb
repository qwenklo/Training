{
 "cells": [
  {
   "cell_type": "markdown",
   "id": "1371d289-2c4f-444a-a6d9-b83dc3ae59da",
   "metadata": {
    "panel-layout": {
     "height": 50.8125,
     "visible": true,
     "width": 100
    }
   },
   "source": [
    "## LAB 2 DATA SCIENCE"
   ]
  },
  {
   "cell_type": "markdown",
   "id": "a7db1a41-f46a-498c-b649-1cf8bab93b14",
   "metadata": {
    "panel-layout": {
     "height": 44.075,
     "visible": true,
     "width": 100
    }
   },
   "source": [
    "### 1. Import libraries"
   ]
  },
  {
   "cell_type": "markdown",
   "id": "d167d838-82ad-4adb-9a97-b13cc14a8a97",
   "metadata": {},
   "source": [
    "#### Basic Libraries"
   ]
  },
  {
   "cell_type": "code",
   "execution_count": 23,
   "id": "b151ec93-a29d-480d-9ecc-30b93ca671f2",
   "metadata": {
    "execution": {
     "iopub.execute_input": "2025-08-25T08:25:33.703982Z",
     "iopub.status.busy": "2025-08-25T08:25:33.703134Z",
     "iopub.status.idle": "2025-08-25T08:25:41.834065Z",
     "shell.execute_reply": "2025-08-25T08:25:41.833721Z",
     "shell.execute_reply.started": "2025-08-25T08:25:33.703890Z"
    }
   },
   "outputs": [
    {
     "name": "stdout",
     "output_type": "stream",
     "text": [
      "Collecting graphistry\n",
      "  Using cached graphistry-0.41.1-py3-none-any.whl.metadata (24 kB)\n",
      "Collecting numpy (from graphistry)\n",
      "  Using cached numpy-2.2.6-cp310-cp310-manylinux_2_17_x86_64.manylinux2014_x86_64.whl.metadata (62 kB)\n",
      "Collecting palettable>=3.0 (from graphistry)\n",
      "  Using cached palettable-3.3.3-py2.py3-none-any.whl.metadata (3.3 kB)\n",
      "Collecting pandas (from graphistry)\n",
      "  Using cached pandas-2.3.2-cp310-cp310-manylinux_2_17_x86_64.manylinux2014_x86_64.whl.metadata (91 kB)\n",
      "Collecting pyarrow>=0.15.0 (from graphistry)\n",
      "  Using cached pyarrow-21.0.0-cp310-cp310-manylinux_2_28_x86_64.whl.metadata (3.3 kB)\n",
      "Collecting requests (from graphistry)\n",
      "  Using cached requests-2.32.5-py3-none-any.whl.metadata (4.9 kB)\n",
      "Collecting squarify (from graphistry)\n",
      "  Using cached squarify-0.4.4-py3-none-any.whl.metadata (600 bytes)\n",
      "Collecting typing-extensions (from graphistry)\n",
      "  Using cached typing_extensions-4.14.1-py3-none-any.whl.metadata (3.0 kB)\n",
      "Collecting packaging>=20.1 (from graphistry)\n",
      "  Using cached packaging-25.0-py3-none-any.whl.metadata (3.3 kB)\n",
      "Collecting setuptools (from graphistry)\n",
      "  Using cached setuptools-80.9.0-py3-none-any.whl.metadata (6.6 kB)\n",
      "Collecting python-dateutil>=2.8.2 (from pandas->graphistry)\n",
      "  Using cached python_dateutil-2.9.0.post0-py2.py3-none-any.whl.metadata (8.4 kB)\n",
      "Collecting pytz>=2020.1 (from pandas->graphistry)\n",
      "  Using cached pytz-2025.2-py2.py3-none-any.whl.metadata (22 kB)\n",
      "Collecting tzdata>=2022.7 (from pandas->graphistry)\n",
      "  Using cached tzdata-2025.2-py2.py3-none-any.whl.metadata (1.4 kB)\n",
      "Collecting charset_normalizer<4,>=2 (from requests->graphistry)\n",
      "  Using cached charset_normalizer-3.4.3-cp310-cp310-manylinux2014_x86_64.manylinux_2_17_x86_64.manylinux_2_28_x86_64.whl.metadata (36 kB)\n",
      "Collecting idna<4,>=2.5 (from requests->graphistry)\n",
      "  Using cached idna-3.10-py3-none-any.whl.metadata (10 kB)\n",
      "Collecting urllib3<3,>=1.21.1 (from requests->graphistry)\n",
      "  Using cached urllib3-2.5.0-py3-none-any.whl.metadata (6.5 kB)\n",
      "Collecting certifi>=2017.4.17 (from requests->graphistry)\n",
      "  Using cached certifi-2025.8.3-py3-none-any.whl.metadata (2.4 kB)\n",
      "Collecting six>=1.5 (from python-dateutil>=2.8.2->pandas->graphistry)\n",
      "  Using cached six-1.17.0-py2.py3-none-any.whl.metadata (1.7 kB)\n",
      "Using cached graphistry-0.41.1-py3-none-any.whl (332 kB)\n",
      "Using cached packaging-25.0-py3-none-any.whl (66 kB)\n",
      "Using cached palettable-3.3.3-py2.py3-none-any.whl (332 kB)\n",
      "Using cached pyarrow-21.0.0-cp310-cp310-manylinux_2_28_x86_64.whl (42.7 MB)\n",
      "Using cached numpy-2.2.6-cp310-cp310-manylinux_2_17_x86_64.manylinux2014_x86_64.whl (16.8 MB)\n",
      "Using cached pandas-2.3.2-cp310-cp310-manylinux_2_17_x86_64.manylinux2014_x86_64.whl (12.3 MB)\n",
      "Using cached requests-2.32.5-py3-none-any.whl (64 kB)\n",
      "Using cached setuptools-80.9.0-py3-none-any.whl (1.2 MB)\n",
      "Using cached squarify-0.4.4-py3-none-any.whl (4.1 kB)\n",
      "Using cached typing_extensions-4.14.1-py3-none-any.whl (43 kB)\n",
      "Using cached certifi-2025.8.3-py3-none-any.whl (161 kB)\n",
      "Using cached charset_normalizer-3.4.3-cp310-cp310-manylinux2014_x86_64.manylinux_2_17_x86_64.manylinux_2_28_x86_64.whl (152 kB)\n",
      "Using cached idna-3.10-py3-none-any.whl (70 kB)\n",
      "Using cached python_dateutil-2.9.0.post0-py2.py3-none-any.whl (229 kB)\n",
      "Using cached pytz-2025.2-py2.py3-none-any.whl (509 kB)\n",
      "Using cached tzdata-2025.2-py2.py3-none-any.whl (347 kB)\n",
      "Using cached urllib3-2.5.0-py3-none-any.whl (129 kB)\n",
      "Using cached six-1.17.0-py2.py3-none-any.whl (11 kB)\n",
      "Installing collected packages: squarify, pytz, urllib3, tzdata, typing-extensions, six, setuptools, pyarrow, palettable, packaging, numpy, idna, charset_normalizer, certifi, requests, python-dateutil, pandas, graphistry\n",
      "\u001b[31mERROR: pip's dependency resolver does not currently take into account all the packages that are installed. This behaviour is the source of the following dependency conflicts.\n",
      "cucim 25.2.0 requires cupy-cuda11x>=12.0.0, which is not installed.\n",
      "cudf 25.2.2 requires cubinlinker, which is not installed.\n",
      "cudf 25.2.2 requires cupy-cuda11x>=12.0.0, which is not installed.\n",
      "cudf 25.2.2 requires libcudf==25.2.*, which is not installed.\n",
      "cudf 25.2.2 requires ptxcompiler, which is not installed.\n",
      "cugraph 25.2.0 requires cupy-cuda11x>=12.0.0, which is not installed.\n",
      "cugraph 25.2.0 requires libcugraph==25.2.*, which is not installed.\n",
      "cuml 25.2.1 requires cupy-cuda11x>=12.0.0, which is not installed.\n",
      "cuml 25.2.1 requires libcuml==25.2.*, which is not installed.\n",
      "cuml 25.2.1 requires nvidia-cublas, which is not installed.\n",
      "cuml 25.2.1 requires nvidia-cufft, which is not installed.\n",
      "cuml 25.2.1 requires nvidia-curand, which is not installed.\n",
      "cuml 25.2.1 requires nvidia-cusolver, which is not installed.\n",
      "cuml 25.2.1 requires nvidia-cusparse, which is not installed.\n",
      "cuspatial 25.2.0 requires libcudf==25.2.*, which is not installed.\n",
      "cuspatial 25.2.0 requires libcuspatial==25.2.*, which is not installed.\n",
      "cuvs 25.2.1 requires libcuvs==25.2.*, which is not installed.\n",
      "cuxfilter 25.2.0 requires cupy-cuda11x>=12.0.0, which is not installed.\n",
      "dash 2.14.1 requires dash-core-components==2.0.0, which is not installed.\n",
      "dash 2.14.1 requires dash-html-components==2.0.0, which is not installed.\n",
      "dash 2.14.1 requires dash-table==5.0.0, which is not installed.\n",
      "dask-cudf 25.2.2 requires cupy-cuda11x>=12.0.0, which is not installed.\n",
      "hypernetx 1.2.5 requires celluloid>=0.2.0, which is not installed.\n",
      "hypernetx 1.2.5 requires python-igraph>=0.9.6, which is not installed.\n",
      "nx-cugraph 25.2.0 requires cupy-cuda11x>=12.0.0, which is not installed.\n",
      "pylibcudf 25.2.2 requires libcudf==25.2.*, which is not installed.\n",
      "pylibcugraph 25.2.0 requires cupy-cuda11x>=12.0.0, which is not installed.\n",
      "pylibcugraph 25.2.0 requires libcugraph==25.2.*, which is not installed.\n",
      "pylibraft 25.2.0 requires libraft==25.2.*, which is not installed.\n",
      "raft-dask 25.2.0 requires libraft==25.2.*, which is not installed.\n",
      "ucxx 0.42.0 requires libucxx==0.42.*, which is not installed.\n",
      "botocore 1.31.84 requires urllib3<2.1,>=1.25.4; python_version >= \"3.10\", but you have urllib3 2.5.0 which is incompatible.\n",
      "cudf 25.2.2 requires cuda-python<12.0a0,>=11.8.5, but you have cuda-python 12.8.0 which is incompatible.\n",
      "cudf 25.2.2 requires pandas<2.2.4dev0,>=2.0, but you have pandas 2.3.2 which is incompatible.\n",
      "cudf 25.2.2 requires pyarrow<20.0.0a0,>=14.0.0; platform_machine == \"x86_64\", but you have pyarrow 21.0.0 which is incompatible.\n",
      "cugraph 25.2.0 requires cuda-python<12.0a0,>=11.8.5, but you have cuda-python 12.8.0 which is incompatible.\n",
      "dask-cudf 25.2.2 requires pandas<2.2.4dev0,>=2.0, but you have pandas 2.3.2 which is incompatible.\n",
      "dgl 2.4.0+cu124 requires torch<=2.4.0, but you have torch 2.7.0+cu128 which is incompatible.\n",
      "gremlinpython 3.5.0 requires aiohttp<=3.7.4,>=3.7.0, but you have aiohttp 3.12.14 which is incompatible.\n",
      "hypernetx 1.2.5 requires networkx<3.0,>=2.2, but you have networkx 3.2.1 which is incompatible.\n",
      "hypernetx 1.2.5 requires numpy<2.0,>=1.15.0, but you have numpy 2.2.6 which is incompatible.\n",
      "numba 0.60.0 requires numpy<2.1,>=1.22, but you have numpy 2.2.6 which is incompatible.\n",
      "pylibcudf 25.2.2 requires cuda-python<12.0a0,>=11.8.5, but you have cuda-python 12.8.0 which is incompatible.\n",
      "pylibcudf 25.2.2 requires pyarrow<20.0.0a0,>=14.0.0; platform_machine == \"x86_64\", but you have pyarrow 21.0.0 which is incompatible.\n",
      "rmm 25.2.0 requires cuda-python<12.0a0,>=11.8.5, but you have cuda-python 12.8.0 which is incompatible.\u001b[0m\u001b[31m\n",
      "\u001b[0mSuccessfully installed certifi-2025.8.3 charset_normalizer-3.4.3 graphistry-0.41.1 idna-3.10 numpy-2.2.6 packaging-25.0 palettable-3.3.3 pandas-2.3.2 pyarrow-21.0.0 python-dateutil-2.9.0.post0 pytz-2025.2 requests-2.32.5 setuptools-80.9.0 six-1.17.0 squarify-0.4.4 typing-extensions-4.14.1 tzdata-2025.2 urllib3-2.5.0\n",
      "\u001b[33mWARNING: Running pip as the 'root' user can result in broken permissions and conflicting behaviour with the system package manager, possibly rendering your system unusable. It is recommended to use a virtual environment instead: https://pip.pypa.io/warnings/venv. Use the --root-user-action option if you know what you are doing and want to suppress this warning.\u001b[0m\u001b[33m\n",
      "\u001b[0m"
     ]
    }
   ],
   "source": [
    "import pandas as pd               # data handling\n",
    "import matplotlib.pyplot as plt   # plotting\n",
    "! pip install --upgrade graphistry"
   ]
  },
  {
   "cell_type": "code",
   "execution_count": 24,
   "id": "f528dbf6-5103-4550-b09a-64ee8aadb47c",
   "metadata": {
    "execution": {
     "iopub.execute_input": "2025-08-25T08:26:46.870939Z",
     "iopub.status.busy": "2025-08-25T08:26:46.870754Z",
     "iopub.status.idle": "2025-08-25T08:26:47.030421Z",
     "shell.execute_reply": "2025-08-25T08:26:47.030104Z",
     "shell.execute_reply.started": "2025-08-25T08:26:46.870926Z"
    }
   },
   "outputs": [
    {
     "data": {
      "text/plain": [
       "<graphistry.pygraphistry.GraphistryClient at 0x7fc3ab5a6950>"
      ]
     },
     "execution_count": 24,
     "metadata": {},
     "output_type": "execute_result"
    }
   ],
   "source": [
    "import graphistry\n",
    "\n",
    "graphistry.register(\n",
    "    api=3,\n",
    "    protocol=\"http\",\n",
    "    server=\"10.10.61.18\",\n",
    "    personal_key_id=\"3BCKNXVZQ6\",\n",
    "    personal_key_secret=\"15W9R97BAZTU8KP8\"\n",
    ")"
   ]
  },
  {
   "cell_type": "markdown",
   "id": "4d8845e6-a5b1-4655-89f6-983974e401ff",
   "metadata": {
    "panel-layout": {
     "height": 44.075,
     "visible": true,
     "width": 100
    }
   },
   "source": [
    "### 2. Load dataset"
   ]
  },
  {
   "cell_type": "markdown",
   "id": "4ff4dd10-2980-4ee7-ad29-509a6be23970",
   "metadata": {
    "panel-layout": {
     "height": 43.2125,
     "visible": true,
     "width": 100
    }
   },
   "source": [
    "#### File paths"
   ]
  },
  {
   "cell_type": "code",
   "execution_count": 25,
   "id": "bda87800-b096-4042-99e4-0f58980c3d22",
   "metadata": {
    "execution": {
     "iopub.execute_input": "2025-08-25T08:27:00.766574Z",
     "iopub.status.busy": "2025-08-25T08:27:00.766310Z",
     "iopub.status.idle": "2025-08-25T08:27:00.768264Z",
     "shell.execute_reply": "2025-08-25T08:27:00.767984Z",
     "shell.execute_reply.started": "2025-08-25T08:27:00.766562Z"
    }
   },
   "outputs": [],
   "source": [
    "http_log_path = \"http_20250707_0000.log.gz\"\n",
    "conn_log_path = \"conn_20250707_0000.log.gz\""
   ]
  },
  {
   "cell_type": "markdown",
   "id": "dad9f9f4-9c0c-4b25-95bb-c6353a493ad7",
   "metadata": {
    "panel-layout": {
     "height": 40.95,
     "visible": true,
     "width": 100
    }
   },
   "source": [
    "#### Load HTTP log"
   ]
  },
  {
   "cell_type": "code",
   "execution_count": 26,
   "id": "e3d8f561-30de-4919-9c69-0e1bc985b76b",
   "metadata": {
    "execution": {
     "iopub.execute_input": "2025-08-25T08:27:03.038248Z",
     "iopub.status.busy": "2025-08-25T08:27:03.038001Z",
     "iopub.status.idle": "2025-08-25T08:27:03.054449Z",
     "shell.execute_reply": "2025-08-25T08:27:03.054128Z",
     "shell.execute_reply.started": "2025-08-25T08:27:03.038236Z"
    }
   },
   "outputs": [],
   "source": [
    "http_df = pd.read_json(http_log_path, lines=True, compression=\"gzip\")"
   ]
  },
  {
   "cell_type": "markdown",
   "id": "d2dde50d-443a-4147-89eb-24bba5f3d981",
   "metadata": {
    "panel-layout": {
     "height": 40.95,
     "visible": true,
     "width": 100
    }
   },
   "source": [
    "#### Load Conn log"
   ]
  },
  {
   "cell_type": "code",
   "execution_count": 27,
   "id": "2a6e3d26-0317-42ad-a483-cec34d4cb1cd",
   "metadata": {
    "execution": {
     "iopub.execute_input": "2025-08-25T08:27:05.769236Z",
     "iopub.status.busy": "2025-08-25T08:27:05.768920Z",
     "iopub.status.idle": "2025-08-25T08:27:06.625084Z",
     "shell.execute_reply": "2025-08-25T08:27:06.624756Z",
     "shell.execute_reply.started": "2025-08-25T08:27:05.769224Z"
    }
   },
   "outputs": [],
   "source": [
    "conn_df = pd.read_json(conn_log_path, lines=True, compression=\"gzip\")"
   ]
  },
  {
   "cell_type": "markdown",
   "id": "47ae25dd-79b6-44e9-9016-880efdb574b3",
   "metadata": {},
   "source": [
    "#### Add total_bytes for conn log \n",
    "\n",
    "to know total traffic per connection"
   ]
  },
  {
   "cell_type": "code",
   "execution_count": 28,
   "id": "0c6fde27-dedd-4311-b52a-6b5bd2ab2e28",
   "metadata": {
    "execution": {
     "iopub.execute_input": "2025-08-25T08:27:11.326428Z",
     "iopub.status.busy": "2025-08-25T08:27:11.326122Z",
     "iopub.status.idle": "2025-08-25T08:27:11.328656Z",
     "shell.execute_reply": "2025-08-25T08:27:11.328428Z",
     "shell.execute_reply.started": "2025-08-25T08:27:11.326416Z"
    }
   },
   "outputs": [],
   "source": [
    "conn_df[\"total_bytes\"] = conn_df[\"orig_bytes\"] + conn_df[\"resp_bytes\"]"
   ]
  },
  {
   "cell_type": "markdown",
   "id": "0b68dfdb-4e26-49f1-a278-d498763dae68",
   "metadata": {
    "panel-layout": {
     "height": 44.075,
     "visible": true,
     "width": 100
    }
   },
   "source": [
    "### 3. Basic Exploration"
   ]
  },
  {
   "cell_type": "markdown",
   "id": "a825f67a-d9d3-485d-85dd-62d8828bacf2",
   "metadata": {
    "panel-layout": {
     "height": 43.2125,
     "visible": true,
     "width": 100
    }
   },
   "source": [
    "#### HTTP Log"
   ]
  },
  {
   "cell_type": "code",
   "execution_count": 29,
   "id": "a2c62f7b-e214-4f55-b418-9500e58497aa",
   "metadata": {
    "execution": {
     "iopub.execute_input": "2025-08-25T08:27:14.240596Z",
     "iopub.status.busy": "2025-08-25T08:27:14.240310Z",
     "iopub.status.idle": "2025-08-25T08:27:14.245964Z",
     "shell.execute_reply": "2025-08-25T08:27:14.245743Z",
     "shell.execute_reply.started": "2025-08-25T08:27:14.240584Z"
    },
    "panel-layout": {
     "height": 0,
     "visible": true,
     "width": 100
    }
   },
   "outputs": [
    {
     "name": "stdout",
     "output_type": "stream",
     "text": [
      "=== HTTP Log ===\n",
      "                            ts                 uid        id.orig_h  \\\n",
      "0  2025-07-07T00:00:06.596972Z  CWACBm1G7zF8OV3c6l  192.168.110.109   \n",
      "1  2025-07-07T00:00:25.847799Z   C1IvuQTriLbdG8HEl  192.168.110.109   \n",
      "2  2025-07-07T00:00:25.906773Z   C1IvuQTriLbdG8HEl  192.168.110.109   \n",
      "3  2025-07-07T00:00:31.755894Z  COsrn048sIOy1jZ69k  192.168.110.109   \n",
      "4  2025-07-07T00:01:09.476267Z  Cf7UNy2VQEURGw0Zy4  192.168.110.106   \n",
      "\n",
      "   id.orig_p       id.resp_h  id.resp_p  trans_depth method  \\\n",
      "0      49857   150.171.27.11         80            1    GET   \n",
      "1      49943  118.215.103.18         80            1    GET   \n",
      "2      49943  118.215.103.18         80            2    GET   \n",
      "3      49790  118.215.103.18         80            3    GET   \n",
      "4      64095  149.154.167.41         80            1   POST   \n",
      "\n",
      "                 host                                                uri  ...  \\\n",
      "0  edge.microsoft.com  /browsernetworktime/time/1/current?cup2key=2:4...  ...   \n",
      "1   ocsp.digicert.com  /MFEwTzBNMEswSTAJBgUrDgMCGgUABBSRXerF0eFeSWRri...  ...   \n",
      "2   ocsp.digicert.com  /MFEwTzBNMEswSTAJBgUrDgMCGgUABBTfqhLjKLEJQZPin...  ...   \n",
      "3   ocsp.digicert.com  /MFEwTzBNMEswSTAJBgUrDgMCGgUABBSRXerF0eFeSWRri...  ...   \n",
      "4   149.154.167.41:80                                               /api  ...   \n",
      "\n",
      "   status_msg tags            resp_fuids  resp_filenames  \\\n",
      "0          OK   []   [FMXtINSczohtlxAE6]    ['json.txt']   \n",
      "1          OK   []  [FDuXRE1KtYKPJG4o6b]             NaN   \n",
      "2          OK   []   [FhTsF3A2y3S09yHjc]             NaN   \n",
      "3          OK   []   [Fx4ObRmWkOWpmVlKb]             NaN   \n",
      "4          OK   []   [FoIvnGruGcUiW1xB7]             NaN   \n",
      "\n",
      "               resp_mime_types            orig_fuids  \\\n",
      "0                 [text/plain]                   NaN   \n",
      "1  [application/ocsp-response]                   NaN   \n",
      "2  [application/ocsp-response]                   NaN   \n",
      "3  [application/ocsp-response]                   NaN   \n",
      "4                          NaN  [Fns5p53rYrDHZYqfq3]   \n",
      "\n",
      "                                           post_body orig_mime_types referrer  \\\n",
      "0                                                NaN             NaN      NaN   \n",
      "1                                                NaN             NaN      NaN   \n",
      "2                                                NaN             NaN      NaN   \n",
      "3                                                NaN             NaN      NaN   \n",
      "4  \\x00\\x00\\x00\\x00\\x00\\x00\\x00\\x00\\xa0\\xd1\\x97ZR...             NaN      NaN   \n",
      "\n",
      "  origin  \n",
      "0    NaN  \n",
      "1    NaN  \n",
      "2    NaN  \n",
      "3    NaN  \n",
      "4    NaN  \n",
      "\n",
      "[5 rows x 25 columns]\n",
      "Shape: (1690, 25)\n",
      "Columns: ['ts', 'uid', 'id.orig_h', 'id.orig_p', 'id.resp_h', 'id.resp_p', 'trans_depth', 'method', 'host', 'uri', 'version', 'user_agent', 'request_body_len', 'response_body_len', 'status_code', 'status_msg', 'tags', 'resp_fuids', 'resp_filenames', 'resp_mime_types', 'orig_fuids', 'post_body', 'orig_mime_types', 'referrer', 'origin']\n",
      "\n",
      "\n"
     ]
    }
   ],
   "source": [
    "print(\"=== HTTP Log ===\")\n",
    "print(http_df.head())      # first 5 rows\n",
    "print(\"Shape:\", http_df.shape)\n",
    "print(\"Columns:\", http_df.columns.tolist())\n",
    "print(\"\\n\")"
   ]
  },
  {
   "cell_type": "markdown",
   "id": "2791a098-1bf8-402e-8932-5b270eab1bec",
   "metadata": {
    "panel-layout": {
     "height": 43.2125,
     "visible": true,
     "width": 100
    }
   },
   "source": [
    "#### Conn Log"
   ]
  },
  {
   "cell_type": "code",
   "execution_count": 30,
   "id": "15754a59-c2ce-4d1e-8363-501e224e5ab7",
   "metadata": {
    "execution": {
     "iopub.execute_input": "2025-08-25T08:27:16.591785Z",
     "iopub.status.busy": "2025-08-25T08:27:16.591505Z",
     "iopub.status.idle": "2025-08-25T08:27:16.596975Z",
     "shell.execute_reply": "2025-08-25T08:27:16.596703Z",
     "shell.execute_reply.started": "2025-08-25T08:27:16.591773Z"
    },
    "panel-layout": {
     "height": 0,
     "visible": true,
     "width": 100
    }
   },
   "outputs": [
    {
     "name": "stdout",
     "output_type": "stream",
     "text": [
      "=== Conn Log ===\n",
      "                            ts                 uid       id.orig_h  id.orig_p  \\\n",
      "0  2025-07-06T23:59:23.226648Z  C41JRf1hXOvgKN6doh  192.168.100.67      58292   \n",
      "1  2025-07-06T23:59:54.571217Z  CApDtP2S12r94hXAg6  192.168.100.67      43778   \n",
      "2  2025-07-06T23:59:54.891340Z   CcXdOce8ESk2GeGC3  192.168.100.67      43792   \n",
      "3  2025-07-06T23:59:50.441054Z  CYQEdk2PfpcURObqY5  192.168.100.10      25200   \n",
      "4  2025-07-06T23:59:55.431337Z  CbWZsv2H2pT0DTmung  192.168.100.26      53538   \n",
      "\n",
      "       id.resp_h  id.resp_p proto   duration  orig_bytes  resp_bytes  ...  \\\n",
      "0   103.18.3.114        443   tcp  31.335102         0.0         0.0  ...   \n",
      "1  203.80.16.244        443   tcp   0.092693         0.0    368450.0  ...   \n",
      "2  203.80.16.244        443   tcp   0.129504         0.0    368450.0  ...   \n",
      "3   204.14.183.2         53   udp        NaN         NaN         NaN  ...   \n",
      "4  17.253.61.202         80   tcp   0.012170         0.0         0.0  ...   \n",
      "\n",
      "        resp_l2_addr                    community_id  corelight_shunted  \\\n",
      "0  00:30:18:03:99:71  1:f5EMCWYLrjPq4VYhMaWIp4ZxrMU=              False   \n",
      "1  00:30:18:03:99:71  1:65r5b7kAqr7ARQjnVG0spcvwFdM=              False   \n",
      "2  00:30:18:03:99:71  1:TEqCeTHxY/Fr0zWROTS2mwVGORQ=              False   \n",
      "3  00:30:18:03:99:71  1:I/6mPbHWB5kYRKiXQz5PRc3uWuA=              False   \n",
      "4  00:30:18:03:99:71  1:YAE+288GRZU4hNSYibPZ2G4whAE=              False   \n",
      "\n",
      "   service suri_ids  id.orig_h_name.src  id.orig_h_name.vals  app  orig_cc  \\\n",
      "0      NaN      NaN                 NaN                  NaN  NaN      NaN   \n",
      "1      NaN      NaN                 NaN                  NaN  NaN      NaN   \n",
      "2      NaN      NaN                 NaN                  NaN  NaN      NaN   \n",
      "3      dns      NaN                 NaN                  NaN  NaN      NaN   \n",
      "4      NaN      NaN                 NaN                  NaN  NaN      NaN   \n",
      "\n",
      "  total_bytes  \n",
      "0         0.0  \n",
      "1    368450.0  \n",
      "2    368450.0  \n",
      "3         NaN  \n",
      "4         0.0  \n",
      "\n",
      "[5 rows x 33 columns]\n",
      "Shape: (63275, 33)\n",
      "Columns: ['ts', 'uid', 'id.orig_h', 'id.orig_p', 'id.resp_h', 'id.resp_p', 'proto', 'duration', 'orig_bytes', 'resp_bytes', 'conn_state', 'local_orig', 'local_resp', 'missed_bytes', 'history', 'orig_pkts', 'orig_ip_bytes', 'resp_pkts', 'resp_ip_bytes', 'resp_cc', 'id.resp_h_name.src', 'id.resp_h_name.vals', 'orig_l2_addr', 'resp_l2_addr', 'community_id', 'corelight_shunted', 'service', 'suri_ids', 'id.orig_h_name.src', 'id.orig_h_name.vals', 'app', 'orig_cc', 'total_bytes']\n"
     ]
    }
   ],
   "source": [
    "print(\"=== Conn Log ===\")\n",
    "print(conn_df.head())\n",
    "print(\"Shape:\", conn_df.shape)\n",
    "print(\"Columns:\", conn_df.columns.tolist())"
   ]
  },
  {
   "cell_type": "markdown",
   "id": "5ba69d3c-a02f-4d6b-9d42-c8f9dd40e7f7",
   "metadata": {
    "panel-layout": {
     "height": 44.075,
     "visible": true,
     "width": 100
    }
   },
   "source": [
    "### 4. Graphistry Visualization"
   ]
  },
  {
   "cell_type": "markdown",
   "id": "b809cac9-a929-4567-8291-4d4810f5f684",
   "metadata": {
    "panel-layout": {
     "height": 43.2125,
     "visible": true,
     "width": 100
    }
   },
   "source": [
    "#### HTTP Logs"
   ]
  },
  {
   "cell_type": "markdown",
   "id": "d3aacea6-4c37-4ece-9a5a-9ecf1f71693e",
   "metadata": {
    "panel-layout": {
     "height": 40.95,
     "visible": true,
     "width": 100
    }
   },
   "source": [
    "##### a. HTTP Requests "
   ]
  },
  {
   "cell_type": "code",
   "execution_count": 31,
   "id": "7f38979e-3dbe-4dec-9681-3a7b01d4b2ee",
   "metadata": {
    "execution": {
     "iopub.execute_input": "2025-08-25T08:27:21.855855Z",
     "iopub.status.busy": "2025-08-25T08:27:21.855569Z",
     "iopub.status.idle": "2025-08-25T08:27:22.340961Z",
     "shell.execute_reply": "2025-08-25T08:27:22.340029Z",
     "shell.execute_reply.started": "2025-08-25T08:27:21.855843Z"
    },
    "panel-layout": {
     "height": 730,
     "visible": true,
     "width": 100
    }
   },
   "outputs": [
    {
     "name": "stderr",
     "output_type": "stream",
     "text": [
      "\n",
      "[PlotterBase.py:2147 -      _table_to_arrow() ]   Failed memoization speedup attempt due to Pandas internal hash function failing. Continuing without memoization speedups.This is fine, but for speedups around skipping re-uploads of previously seen tables, try identifying which columns have types that Pandas cannot hash, and convert them to hashable types like strings.\n",
      "\n"
     ]
    },
    {
     "data": {
      "text/html": [
       "\n",
       "            <iframe id=\"017559c2-b2d1-4c0e-bca1-35784c644dd4\" src=\"/graph/graph.html?dataset=fc1b802dc0c14d8697779e4afc412ba5&type=arrow&viztoken=2c87f704-5a79-437a-a216-1e885293358c&usertag=75998815-pygraphistry-0.41.1&splashAfter=1756110457&info=true\"\n",
       "                    allowfullscreen=\"true\" webkitallowfullscreen=\"true\" mozallowfullscreen=\"true\"\n",
       "                    oallowfullscreen=\"true\" msallowfullscreen=\"true\"\n",
       "                    style=\"width:100%; height:500px; border: 1px solid #DDD; overflow: hidden\"\n",
       "                    \n",
       "            >\n",
       "            </iframe>\n",
       "        \n",
       "            <script>\n",
       "                try {\n",
       "                  $(\"#017559c2-b2d1-4c0e-bca1-35784c644dd4\").bind('mousewheel', function(e) { e.preventDefault(); });\n",
       "                } catch (e) { console.error('exn catching scroll', e); }\n",
       "            </script>\n",
       "        "
      ],
      "text/plain": [
       "<IPython.core.display.HTML object>"
      ]
     },
     "execution_count": 31,
     "metadata": {},
     "output_type": "execute_result"
    }
   ],
   "source": [
    "g_http = graphistry.bind(\n",
    "    source='id.orig_h',       # Client IP\n",
    "    destination='host',       # HTTP host (domain)\n",
    "    edge_title='response_body_len',\n",
    "    edge_weight='response_body_len'\n",
    ")\n",
    "\n",
    "g_http.plot(http_df)"
   ]
  },
  {
   "cell_type": "markdown",
   "id": "8b5ad0cf-49fc-4a70-847a-b603d1ce4a5c",
   "metadata": {
    "panel-layout": {
     "height": 43.2125,
     "visible": true,
     "width": 100
    }
   },
   "source": [
    "#### Conn Logs"
   ]
  },
  {
   "cell_type": "markdown",
   "id": "a630c407-d5cd-410a-a513-bc03a14be9e1",
   "metadata": {
    "panel-layout": {
     "height": 40.95,
     "visible": true,
     "width": 100
    }
   },
   "source": [
    "##### a. Network Sessions"
   ]
  },
  {
   "cell_type": "code",
   "execution_count": 32,
   "id": "712a4436-3a61-4aca-80c4-2fa1893502fc",
   "metadata": {
    "execution": {
     "iopub.execute_input": "2025-08-25T08:36:30.983340Z",
     "iopub.status.busy": "2025-08-25T08:36:30.983168Z",
     "iopub.status.idle": "2025-08-25T08:36:32.439082Z",
     "shell.execute_reply": "2025-08-25T08:36:32.438263Z",
     "shell.execute_reply.started": "2025-08-25T08:36:30.983329Z"
    },
    "panel-layout": {
     "height": 730,
     "visible": true,
     "width": 100
    }
   },
   "outputs": [
    {
     "name": "stderr",
     "output_type": "stream",
     "text": [
      "\n",
      "[PlotterBase.py:2147 -      _table_to_arrow() ]   Failed memoization speedup attempt due to Pandas internal hash function failing. Continuing without memoization speedups.This is fine, but for speedups around skipping re-uploads of previously seen tables, try identifying which columns have types that Pandas cannot hash, and convert them to hashable types like strings.\n",
      "\n"
     ]
    },
    {
     "data": {
      "text/html": [
       "\n",
       "            <iframe id=\"0f77bbcf-d55f-4809-86cd-57c97fafcc18\" src=\"/graph/graph.html?dataset=a21e0ef18b2444baa5702cc88c3f87cf&type=arrow&viztoken=27aa7439-f812-4c51-8f99-1050ccaa45ed&usertag=75998815-pygraphistry-0.41.1&splashAfter=1756111007&info=true\"\n",
       "                    allowfullscreen=\"true\" webkitallowfullscreen=\"true\" mozallowfullscreen=\"true\"\n",
       "                    oallowfullscreen=\"true\" msallowfullscreen=\"true\"\n",
       "                    style=\"width:100%; height:500px; border: 1px solid #DDD; overflow: hidden\"\n",
       "                    \n",
       "            >\n",
       "            </iframe>\n",
       "        \n",
       "            <script>\n",
       "                try {\n",
       "                  $(\"#0f77bbcf-d55f-4809-86cd-57c97fafcc18\").bind('mousewheel', function(e) { e.preventDefault(); });\n",
       "                } catch (e) { console.error('exn catching scroll', e); }\n",
       "            </script>\n",
       "        "
      ],
      "text/plain": [
       "<IPython.core.display.HTML object>"
      ]
     },
     "execution_count": 32,
     "metadata": {},
     "output_type": "execute_result"
    }
   ],
   "source": [
    "g_conn = graphistry.bind(\n",
    "    source='id.orig_h',        # Client IP\n",
    "    destination='id.resp_h',   # Server IP\n",
    "    edge_title='total_bytes',   # Hover shows total bytes\n",
    "    edge_weight='total_bytes'   # Edge thickness proportional to total bytes\n",
    ")\n",
    "\n",
    "g_conn.plot(conn_df)"
   ]
  },
  {
   "cell_type": "markdown",
   "id": "e338267c-a7b4-4b2e-ac1d-fce3c151242b",
   "metadata": {
    "panel-layout": {
     "height": 43.2125,
     "visible": true,
     "width": 100
    }
   },
   "source": [
    "#### Merge HTTP + Conn logs"
   ]
  },
  {
   "cell_type": "markdown",
   "id": "03310523-31f9-40e6-9774-6ac26ba096eb",
   "metadata": {},
   "source": [
    "##### Merge logs on 'uid'"
   ]
  },
  {
   "cell_type": "code",
   "execution_count": 33,
   "id": "27cef282-d163-49c2-9649-2e25bb54fb5b",
   "metadata": {
    "execution": {
     "iopub.execute_input": "2025-08-25T08:36:39.964919Z",
     "iopub.status.busy": "2025-08-25T08:36:39.964732Z",
     "iopub.status.idle": "2025-08-25T08:36:40.008154Z",
     "shell.execute_reply": "2025-08-25T08:36:40.007237Z",
     "shell.execute_reply.started": "2025-08-25T08:36:39.964908Z"
    }
   },
   "outputs": [],
   "source": [
    "merged = pd.merge(http_df, conn_df, on='uid', how='inner', suffixes=('_http', '_conn'))"
   ]
  },
  {
   "cell_type": "markdown",
   "id": "f569d0e9-b25c-4779-aa8d-80c26d4d2c42",
   "metadata": {
    "panel-layout": {
     "height": 40.95,
     "visible": true,
     "width": 100
    }
   },
   "source": [
    "##### a. Total bytes from conn"
   ]
  },
  {
   "cell_type": "code",
   "execution_count": 34,
   "id": "9d062bcd-2f22-4164-90ca-583303b28ff9",
   "metadata": {
    "execution": {
     "iopub.execute_input": "2025-08-25T08:36:44.381192Z",
     "iopub.status.busy": "2025-08-25T08:36:44.381019Z",
     "iopub.status.idle": "2025-08-25T08:36:44.970153Z",
     "shell.execute_reply": "2025-08-25T08:36:44.969350Z",
     "shell.execute_reply.started": "2025-08-25T08:36:44.381181Z"
    },
    "panel-layout": {
     "height": 874,
     "visible": true,
     "width": 100
    }
   },
   "outputs": [
    {
     "name": "stderr",
     "output_type": "stream",
     "text": [
      "\n",
      "[PlotterBase.py:2147 -      _table_to_arrow() ]   Failed memoization speedup attempt due to Pandas internal hash function failing. Continuing without memoization speedups.This is fine, but for speedups around skipping re-uploads of previously seen tables, try identifying which columns have types that Pandas cannot hash, and convert them to hashable types like strings.\n",
      "\n",
      "\n",
      "[requests.py:14 -   log_requests_error() ]   HTTP 422 error - response content (JSON): {\n",
      "  \"data\": {\n",
      "    \"bindings\": {\n",
      "      \"destination\": \"host\",\n",
      "      \"edge_title\": \"total_bytes\",\n",
      "      \"edge_weight\": \"total_bytes\",\n",
      "      \"source\": \"id.orig_h\"\n",
      "    },\n",
      "    \"dataset_id\": \"5985b3d3d2d14207bdbaf4b3b13a58db\",\n",
      "    \"error_message\": \"Edge binding 'source' points to a column named 'id.orig_h' that does not exist, is there a typo in column name? Available columns: Index(['ts_http', 'uid', 'id.orig_h_http', 'id.orig_p_http', 'id.resp_h_http',\\n       'id.resp_p_http', 'trans_depth', 'method', 'host', 'uri', 'version',\\n       'user_agent', 'request_body_len', 'response_body_len', 'status_code',\\n       'status_msg', 'tags', 'resp_fuids', 'resp_filenames', 'resp_mime_types',\\n       'orig_fuids', 'post_body', 'orig_mime_types', 'referrer', 'origin',\\n       'ts_conn', 'id.orig_h_conn', 'id.orig_p_conn', 'id.resp_h_conn',\\n       'id.resp_p_conn', 'proto', 'duration', 'orig_bytes', 'resp_bytes',\\n       'conn_state', 'local_orig', 'local_resp', 'missed_bytes', 'history',\\n       'orig_pkts', 'orig_ip_bytes', 'resp_pkts', 'resp_ip_bytes', 'resp_cc',\\n       'id.resp_h_name.src', 'id.resp_h_name.vals', 'orig_l2_addr',\\n       'resp_l2_addr', 'community_id', 'corelight_shunted', 'service',\\n       'suri_ids', 'id.orig_h_name.src', 'id.orig_h_name.vals', 'app',\\n       'orig_cc', 'total_bytes'],\\n      dtype='object')\"\n",
      "  },\n",
      "  \"message\": \"Invalid edges bindings\",\n",
      "  \"success\": false\n",
      "}\n",
      "\n",
      "\n",
      "[requests.py:14 -   log_requests_error() ]   HTTP 422 error - response content (JSON): {\n",
      "  \"data\": {\n",
      "    \"bindings\": {\n",
      "      \"destination\": \"host\",\n",
      "      \"edge_title\": \"total_bytes\",\n",
      "      \"edge_weight\": \"total_bytes\",\n",
      "      \"source\": \"id.orig_h\"\n",
      "    },\n",
      "    \"dataset_id\": \"5985b3d3d2d14207bdbaf4b3b13a58db\",\n",
      "    \"error_message\": \"Edge binding 'source' points to a column named 'id.orig_h' that does not exist, is there a typo in column name? Available columns: Index(['ts_http', 'uid', 'id.orig_h_http', 'id.orig_p_http', 'id.resp_h_http',\\n       'id.resp_p_http', 'trans_depth', 'method', 'host', 'uri', 'version',\\n       'user_agent', 'request_body_len', 'response_body_len', 'status_code',\\n       'status_msg', 'tags', 'resp_fuids', 'resp_filenames', 'resp_mime_types',\\n       'orig_fuids', 'post_body', 'orig_mime_types', 'referrer', 'origin',\\n       'ts_conn', 'id.orig_h_conn', 'id.orig_p_conn', 'id.resp_h_conn',\\n       'id.resp_p_conn', 'proto', 'duration', 'orig_bytes', 'resp_bytes',\\n       'conn_state', 'local_orig', 'local_resp', 'missed_bytes', 'history',\\n       'orig_pkts', 'orig_ip_bytes', 'resp_pkts', 'resp_ip_bytes', 'resp_cc',\\n       'id.resp_h_name.src', 'id.resp_h_name.vals', 'orig_l2_addr',\\n       'resp_l2_addr', 'community_id', 'corelight_shunted', 'service',\\n       'suri_ids', 'id.orig_h_name.src', 'id.orig_h_name.vals', 'app',\\n       'orig_cc', 'total_bytes'],\\n      dtype='object')\"\n",
      "  },\n",
      "  \"message\": \"Invalid edges bindings\",\n",
      "  \"success\": false\n",
      "}\n",
      "\n",
      "\n",
      "[arrow_uploader.py:720 -           post_arrow() ]   Failed to post arrow to api/v2/upload/datasets/5985b3d3d2d14207bdbaf4b3b13a58db/edges/arrow (http://10.10.61.18/api/v2/upload/datasets/5985b3d3d2d14207bdbaf4b3b13a58db/edges/arrow)\n",
      "Traceback (most recent call last):\n",
      "  File \"/opt/py_env/graphistry/arrow_uploader.py\", line 714, in post_arrow\n",
      "    resp = self.post_arrow_generic(sub_path, tok, arr, opts)\n",
      "  File \"/opt/py_env/graphistry/arrow_uploader.py\", line 746, in post_arrow_generic\n",
      "    resp.raise_for_status()\n",
      "  File \"/opt/py_env/requests/models.py\", line 1026, in raise_for_status\n",
      "    raise HTTPError(http_error_msg, response=self)\n",
      "requests.exceptions.HTTPError: 422 Client Error: Unprocessable Entity for url: http://10.10.61.18/api/v2/upload/datasets/5985b3d3d2d14207bdbaf4b3b13a58db/edges/arrow\n",
      "\n",
      "[arrow_uploader.py:721 -           post_arrow() ]   422 Client Error: Unprocessable Entity for url: http://10.10.61.18/api/v2/upload/datasets/5985b3d3d2d14207bdbaf4b3b13a58db/edges/arrow\n",
      "\n",
      "\n",
      "[arrow_uploader.py:722 -           post_arrow() ]   None\n",
      "\n"
     ]
    },
    {
     "ename": "HTTPError",
     "evalue": "422 Client Error: Unprocessable Entity for url: http://10.10.61.18/api/v2/upload/datasets/5985b3d3d2d14207bdbaf4b3b13a58db/edges/arrow",
     "output_type": "error",
     "traceback": [
      "\u001b[0;31m---------------------------------------------------------------------------\u001b[0m",
      "\u001b[0;31mHTTPError\u001b[0m                                 Traceback (most recent call last)",
      "Cell \u001b[0;32mIn[34], line 10\u001b[0m\n\u001b[1;32m      1\u001b[0m merged[\u001b[38;5;124m\"\u001b[39m\u001b[38;5;124mtotal_bytes\u001b[39m\u001b[38;5;124m\"\u001b[39m] \u001b[38;5;241m=\u001b[39m merged[\u001b[38;5;124m\"\u001b[39m\u001b[38;5;124morig_bytes\u001b[39m\u001b[38;5;124m\"\u001b[39m] \u001b[38;5;241m+\u001b[39m merged[\u001b[38;5;124m\"\u001b[39m\u001b[38;5;124mresp_bytes\u001b[39m\u001b[38;5;124m\"\u001b[39m]\n\u001b[1;32m      3\u001b[0m g_combined \u001b[38;5;241m=\u001b[39m graphistry\u001b[38;5;241m.\u001b[39mbind(\n\u001b[1;32m      4\u001b[0m     source\u001b[38;5;241m=\u001b[39m\u001b[38;5;124m'\u001b[39m\u001b[38;5;124mid.orig_h\u001b[39m\u001b[38;5;124m'\u001b[39m,   \u001b[38;5;66;03m# Client IP\u001b[39;00m\n\u001b[1;32m      5\u001b[0m     destination\u001b[38;5;241m=\u001b[39m\u001b[38;5;124m'\u001b[39m\u001b[38;5;124mhost\u001b[39m\u001b[38;5;124m'\u001b[39m,   \u001b[38;5;66;03m# HTTP host\u001b[39;00m\n\u001b[1;32m      6\u001b[0m     edge_title\u001b[38;5;241m=\u001b[39m\u001b[38;5;124m'\u001b[39m\u001b[38;5;124mtotal_bytes\u001b[39m\u001b[38;5;124m'\u001b[39m,\n\u001b[1;32m      7\u001b[0m     edge_weight\u001b[38;5;241m=\u001b[39m\u001b[38;5;124m'\u001b[39m\u001b[38;5;124mtotal_bytes\u001b[39m\u001b[38;5;124m'\u001b[39m\n\u001b[1;32m      8\u001b[0m )\n\u001b[0;32m---> 10\u001b[0m \u001b[43mg_combined\u001b[49m\u001b[38;5;241;43m.\u001b[39;49m\u001b[43mplot\u001b[49m\u001b[43m(\u001b[49m\u001b[43mmerged\u001b[49m\u001b[43m)\u001b[49m\n",
      "File \u001b[0;32m/opt/py_env/graphistry/PlotterBase.py:1703\u001b[0m, in \u001b[0;36mPlotterBase.plot\u001b[0;34m(self, graph, nodes, name, description, render, skip_upload, as_files, memoize, erase_files_on_fail, extra_html, override_html_style, validate)\u001b[0m\n\u001b[1;32m   1701\u001b[0m     \u001b[38;5;28;01mreturn\u001b[39;00m uploader\n\u001b[1;32m   1702\u001b[0m uploader\u001b[38;5;241m.\u001b[39mtoken \u001b[38;5;241m=\u001b[39m \u001b[38;5;28mself\u001b[39m\u001b[38;5;241m.\u001b[39msession\u001b[38;5;241m.\u001b[39mapi_token  \u001b[38;5;66;03m# type: ignore[assignment]\u001b[39;00m\n\u001b[0;32m-> 1703\u001b[0m \u001b[43muploader\u001b[49m\u001b[38;5;241;43m.\u001b[39;49m\u001b[43mpost\u001b[49m\u001b[43m(\u001b[49m\u001b[43mas_files\u001b[49m\u001b[38;5;241;43m=\u001b[39;49m\u001b[43mas_files\u001b[49m\u001b[43m,\u001b[49m\u001b[43m \u001b[49m\u001b[43mmemoize\u001b[49m\u001b[38;5;241;43m=\u001b[39;49m\u001b[43mmemoize\u001b[49m\u001b[43m,\u001b[49m\u001b[43m \u001b[49m\u001b[43mvalidate\u001b[49m\u001b[38;5;241;43m=\u001b[39;49m\u001b[43mvalidate\u001b[49m\u001b[43m,\u001b[49m\u001b[43m \u001b[49m\u001b[43merase_files_on_fail\u001b[49m\u001b[38;5;241;43m=\u001b[39;49m\u001b[43merase_files_on_fail\u001b[49m\u001b[43m)\u001b[49m\n\u001b[1;32m   1704\u001b[0m uploader\u001b[38;5;241m.\u001b[39mmaybe_post_share_link(\u001b[38;5;28mself\u001b[39m)\n\u001b[1;32m   1705\u001b[0m info \u001b[38;5;241m=\u001b[39m {\n\u001b[1;32m   1706\u001b[0m     \u001b[38;5;124m'\u001b[39m\u001b[38;5;124mname\u001b[39m\u001b[38;5;124m'\u001b[39m: uploader\u001b[38;5;241m.\u001b[39mdataset_id,\n\u001b[1;32m   1707\u001b[0m     \u001b[38;5;124m'\u001b[39m\u001b[38;5;124mtype\u001b[39m\u001b[38;5;124m'\u001b[39m: \u001b[38;5;124m'\u001b[39m\u001b[38;5;124marrow\u001b[39m\u001b[38;5;124m'\u001b[39m,\n\u001b[1;32m   1708\u001b[0m     \u001b[38;5;124m'\u001b[39m\u001b[38;5;124mviztoken\u001b[39m\u001b[38;5;124m'\u001b[39m: \u001b[38;5;28mstr\u001b[39m(uuid\u001b[38;5;241m.\u001b[39muuid4())\n\u001b[1;32m   1709\u001b[0m }\n",
      "File \u001b[0;32m/opt/py_env/graphistry/arrow_uploader.py:587\u001b[0m, in \u001b[0;36mArrowUploader.post\u001b[0;34m(self, as_files, memoize, validate, erase_files_on_fail)\u001b[0m\n\u001b[1;32m    577\u001b[0m \u001b[38;5;28;01melse\u001b[39;00m:\n\u001b[1;32m    579\u001b[0m     \u001b[38;5;28mself\u001b[39m\u001b[38;5;241m.\u001b[39mcreate_dataset({\n\u001b[1;32m    580\u001b[0m         \u001b[38;5;124m\"\u001b[39m\u001b[38;5;124mnode_encodings\u001b[39m\u001b[38;5;124m\"\u001b[39m: \u001b[38;5;28mself\u001b[39m\u001b[38;5;241m.\u001b[39mnode_encodings,\n\u001b[1;32m    581\u001b[0m         \u001b[38;5;124m\"\u001b[39m\u001b[38;5;124medge_encodings\u001b[39m\u001b[38;5;124m\"\u001b[39m: \u001b[38;5;28mself\u001b[39m\u001b[38;5;241m.\u001b[39medge_encodings,\n\u001b[0;32m   (...)\u001b[0m\n\u001b[1;32m    584\u001b[0m         \u001b[38;5;124m\"\u001b[39m\u001b[38;5;124mdescription\u001b[39m\u001b[38;5;124m\"\u001b[39m: \u001b[38;5;28mself\u001b[39m\u001b[38;5;241m.\u001b[39mdescription\n\u001b[1;32m    585\u001b[0m     }, validate)\n\u001b[0;32m--> 587\u001b[0m     \u001b[38;5;28;43mself\u001b[39;49m\u001b[38;5;241;43m.\u001b[39;49m\u001b[43mpost_edges_arrow\u001b[49m\u001b[43m(\u001b[49m\u001b[43m)\u001b[49m\n\u001b[1;32m    589\u001b[0m     \u001b[38;5;28;01mif\u001b[39;00m \u001b[38;5;129;01mnot\u001b[39;00m (\u001b[38;5;28mself\u001b[39m\u001b[38;5;241m.\u001b[39mnodes \u001b[38;5;129;01mis\u001b[39;00m \u001b[38;5;28;01mNone\u001b[39;00m):\n\u001b[1;32m    590\u001b[0m         \u001b[38;5;28mself\u001b[39m\u001b[38;5;241m.\u001b[39mpost_nodes_arrow()\n",
      "File \u001b[0;32m/opt/py_env/graphistry/arrow_uploader.py:701\u001b[0m, in \u001b[0;36mArrowUploader.post_edges_arrow\u001b[0;34m(self, arr, opts)\u001b[0m\n\u001b[1;32m    699\u001b[0m \u001b[38;5;28;01mif\u001b[39;00m arr \u001b[38;5;129;01mis\u001b[39;00m \u001b[38;5;28;01mNone\u001b[39;00m:\n\u001b[1;32m    700\u001b[0m     arr \u001b[38;5;241m=\u001b[39m \u001b[38;5;28mself\u001b[39m\u001b[38;5;241m.\u001b[39medges\n\u001b[0;32m--> 701\u001b[0m \u001b[38;5;28;01mreturn\u001b[39;00m \u001b[38;5;28;43mself\u001b[39;49m\u001b[38;5;241;43m.\u001b[39;49m\u001b[43mpost_arrow\u001b[49m\u001b[43m(\u001b[49m\u001b[43marr\u001b[49m\u001b[43m,\u001b[49m\u001b[43m \u001b[49m\u001b[38;5;124;43m'\u001b[39;49m\u001b[38;5;124;43medges\u001b[39;49m\u001b[38;5;124;43m'\u001b[39;49m\u001b[43m,\u001b[49m\u001b[43m \u001b[49m\u001b[43mopts\u001b[49m\u001b[43m)\u001b[49m\n",
      "File \u001b[0;32m/opt/py_env/graphistry/arrow_uploader.py:723\u001b[0m, in \u001b[0;36mArrowUploader.post_arrow\u001b[0;34m(self, arr, graph_type, opts)\u001b[0m\n\u001b[1;32m    721\u001b[0m     logger\u001b[38;5;241m.\u001b[39merror(\u001b[38;5;124m'\u001b[39m\u001b[38;5;132;01m%s\u001b[39;00m\u001b[38;5;124m'\u001b[39m, e)\n\u001b[1;32m    722\u001b[0m     logger\u001b[38;5;241m.\u001b[39merror(\u001b[38;5;124m'\u001b[39m\u001b[38;5;132;01m%s\u001b[39;00m\u001b[38;5;124m'\u001b[39m, e\u001b[38;5;241m.\u001b[39mresponse\u001b[38;5;241m.\u001b[39mtext \u001b[38;5;28;01mif\u001b[39;00m e\u001b[38;5;241m.\u001b[39mresponse \u001b[38;5;28;01melse\u001b[39;00m \u001b[38;5;28;01mNone\u001b[39;00m)\n\u001b[0;32m--> 723\u001b[0m     \u001b[38;5;28;01mraise\u001b[39;00m e\n\u001b[1;32m    724\u001b[0m \u001b[38;5;28;01mexcept\u001b[39;00m \u001b[38;5;167;01mException\u001b[39;00m \u001b[38;5;28;01mas\u001b[39;00m e:\n\u001b[1;32m    725\u001b[0m     logger\u001b[38;5;241m.\u001b[39merror(\u001b[38;5;124m'\u001b[39m\u001b[38;5;124mFailed to post arrow to \u001b[39m\u001b[38;5;132;01m%s\u001b[39;00m\u001b[38;5;124m'\u001b[39m, sub_path, exc_info\u001b[38;5;241m=\u001b[39m\u001b[38;5;28;01mTrue\u001b[39;00m)\n",
      "File \u001b[0;32m/opt/py_env/graphistry/arrow_uploader.py:714\u001b[0m, in \u001b[0;36mArrowUploader.post_arrow\u001b[0;34m(self, arr, graph_type, opts)\u001b[0m\n\u001b[1;32m    711\u001b[0m sub_path \u001b[38;5;241m=\u001b[39m \u001b[38;5;124mf\u001b[39m\u001b[38;5;124m'\u001b[39m\u001b[38;5;124mapi/v2/upload/datasets/\u001b[39m\u001b[38;5;132;01m{\u001b[39;00mdataset_id\u001b[38;5;132;01m}\u001b[39;00m\u001b[38;5;124m/\u001b[39m\u001b[38;5;132;01m{\u001b[39;00mgraph_type\u001b[38;5;132;01m}\u001b[39;00m\u001b[38;5;124m/arrow\u001b[39m\u001b[38;5;124m'\u001b[39m\n\u001b[1;32m    713\u001b[0m \u001b[38;5;28;01mtry\u001b[39;00m:\n\u001b[0;32m--> 714\u001b[0m     resp \u001b[38;5;241m=\u001b[39m \u001b[38;5;28;43mself\u001b[39;49m\u001b[38;5;241;43m.\u001b[39;49m\u001b[43mpost_arrow_generic\u001b[49m\u001b[43m(\u001b[49m\u001b[43msub_path\u001b[49m\u001b[43m,\u001b[49m\u001b[43m \u001b[49m\u001b[43mtok\u001b[49m\u001b[43m,\u001b[49m\u001b[43m \u001b[49m\u001b[43marr\u001b[49m\u001b[43m,\u001b[49m\u001b[43m \u001b[49m\u001b[43mopts\u001b[49m\u001b[43m)\u001b[49m\n\u001b[1;32m    715\u001b[0m     out \u001b[38;5;241m=\u001b[39m resp\u001b[38;5;241m.\u001b[39mjson()\n\u001b[1;32m    716\u001b[0m     \u001b[38;5;28;01mif\u001b[39;00m \u001b[38;5;129;01mnot\u001b[39;00m (\u001b[38;5;124m'\u001b[39m\u001b[38;5;124msuccess\u001b[39m\u001b[38;5;124m'\u001b[39m \u001b[38;5;129;01min\u001b[39;00m out) \u001b[38;5;129;01mor\u001b[39;00m \u001b[38;5;129;01mnot\u001b[39;00m out[\u001b[38;5;124m'\u001b[39m\u001b[38;5;124msuccess\u001b[39m\u001b[38;5;124m'\u001b[39m]:\n",
      "File \u001b[0;32m/opt/py_env/graphistry/arrow_uploader.py:746\u001b[0m, in \u001b[0;36mArrowUploader.post_arrow_generic\u001b[0;34m(self, sub_path, tok, arr, opts)\u001b[0m\n\u001b[1;32m    743\u001b[0m \u001b[38;5;28;01mif\u001b[39;00m resp\u001b[38;5;241m.\u001b[39mstatus_code \u001b[38;5;241m!=\u001b[39m requests\u001b[38;5;241m.\u001b[39mcodes\u001b[38;5;241m.\u001b[39mok:\n\u001b[1;32m    745\u001b[0m     log_requests_error(resp)\n\u001b[0;32m--> 746\u001b[0m     \u001b[43mresp\u001b[49m\u001b[38;5;241;43m.\u001b[39;49m\u001b[43mraise_for_status\u001b[49m\u001b[43m(\u001b[49m\u001b[43m)\u001b[49m\n\u001b[1;32m    748\u001b[0m \u001b[38;5;28;01mreturn\u001b[39;00m resp\n",
      "File \u001b[0;32m/opt/py_env/requests/models.py:1026\u001b[0m, in \u001b[0;36mResponse.raise_for_status\u001b[0;34m(self)\u001b[0m\n\u001b[1;32m   1021\u001b[0m     http_error_msg \u001b[38;5;241m=\u001b[39m (\n\u001b[1;32m   1022\u001b[0m         \u001b[38;5;124mf\u001b[39m\u001b[38;5;124m\"\u001b[39m\u001b[38;5;132;01m{\u001b[39;00m\u001b[38;5;28mself\u001b[39m\u001b[38;5;241m.\u001b[39mstatus_code\u001b[38;5;132;01m}\u001b[39;00m\u001b[38;5;124m Server Error: \u001b[39m\u001b[38;5;132;01m{\u001b[39;00mreason\u001b[38;5;132;01m}\u001b[39;00m\u001b[38;5;124m for url: \u001b[39m\u001b[38;5;132;01m{\u001b[39;00m\u001b[38;5;28mself\u001b[39m\u001b[38;5;241m.\u001b[39murl\u001b[38;5;132;01m}\u001b[39;00m\u001b[38;5;124m\"\u001b[39m\n\u001b[1;32m   1023\u001b[0m     )\n\u001b[1;32m   1025\u001b[0m \u001b[38;5;28;01mif\u001b[39;00m http_error_msg:\n\u001b[0;32m-> 1026\u001b[0m     \u001b[38;5;28;01mraise\u001b[39;00m HTTPError(http_error_msg, response\u001b[38;5;241m=\u001b[39m\u001b[38;5;28mself\u001b[39m)\n",
      "\u001b[0;31mHTTPError\u001b[0m: 422 Client Error: Unprocessable Entity for url: http://10.10.61.18/api/v2/upload/datasets/5985b3d3d2d14207bdbaf4b3b13a58db/edges/arrow"
     ]
    }
   ],
   "source": [
    "merged[\"total_bytes\"] = merged[\"orig_bytes\"] + merged[\"resp_bytes\"]\n",
    "\n",
    "g_combined = graphistry.bind(\n",
    "    source='id.orig_h',   # Client IP\n",
    "    destination='host',   # HTTP host\n",
    "    edge_title='total_bytes',\n",
    "    edge_weight='total_bytes'\n",
    ")\n",
    "\n",
    "g_combined.plot(merged)"
   ]
  },
  {
   "cell_type": "code",
   "execution_count": null,
   "id": "ee6383e0-690d-479b-a50d-ce403e22513a",
   "metadata": {},
   "outputs": [],
   "source": []
  }
 ],
 "metadata": {
  "kernelspec": {
   "display_name": "Python 3 (ipykernel)",
   "language": "python",
   "name": "python3"
  },
  "language_info": {
   "codemirror_mode": {
    "name": "ipython",
    "version": 3
   },
   "file_extension": ".py",
   "mimetype": "text/x-python",
   "name": "python",
   "nbconvert_exporter": "python",
   "pygments_lexer": "ipython3",
   "version": "3.13.7"
  },
  "panel-cell-order": [
   "1371d289-2c4f-444a-a6d9-b83dc3ae59da",
   "a7db1a41-f46a-498c-b649-1cf8bab93b14",
   "4d8845e6-a5b1-4655-89f6-983974e401ff",
   "4ff4dd10-2980-4ee7-ad29-509a6be23970",
   "dad9f9f4-9c0c-4b25-95bb-c6353a493ad7",
   "d2dde50d-443a-4147-89eb-24bba5f3d981",
   "0b68dfdb-4e26-49f1-a278-d498763dae68",
   "a825f67a-d9d3-485d-85dd-62d8828bacf2",
   "a2c62f7b-e214-4f55-b418-9500e58497aa",
   "2791a098-1bf8-402e-8932-5b270eab1bec",
   "15754a59-c2ce-4d1e-8363-501e224e5ab7",
   "5ba69d3c-a02f-4d6b-9d42-c8f9dd40e7f7",
   "b809cac9-a929-4567-8291-4d4810f5f684",
   "d3aacea6-4c37-4ece-9a5a-9ecf1f71693e",
   "7f38979e-3dbe-4dec-9681-3a7b01d4b2ee",
   "d33d5917-68b3-442d-99e9-1a92200723c7",
   "2bae8ea8-d3ab-4506-a841-c45cf5b6c2ea",
   "1a5811ea-8c96-4860-ae6e-ece21ef3337a",
   "f8e68f05-8308-41ec-a30c-51fedd146588",
   "8b5ad0cf-49fc-4a70-847a-b603d1ce4a5c",
   "a630c407-d5cd-410a-a513-bc03a14be9e1",
   "712a4436-3a61-4aca-80c4-2fa1893502fc",
   "f47d1ac4-5b45-4c5e-9510-c14a43f7e91d",
   "64cd1679-6f4c-4b91-a8dc-964210557bb6",
   "095512c9-7f72-42a3-b51a-7505622cc401",
   "3c92e970-1a5c-4b28-a8ac-a935b345b37a",
   "7f0e7e57-f3c4-4599-80df-1d7efe00c08b",
   "12f9723d-d078-40fb-9989-c1b2603587e1",
   "e338267c-a7b4-4b2e-ac1d-fce3c151242b",
   "f569d0e9-b25c-4779-aa8d-80c26d4d2c42",
   "9d062bcd-2f22-4164-90ca-583303b28ff9"
  ]
 },
 "nbformat": 4,
 "nbformat_minor": 5
}
